{
  "nbformat": 4,
  "nbformat_minor": 0,
  "metadata": {
    "colab": {
      "provenance": [],
      "authorship_tag": "ABX9TyNEqFfcD26K0AHykVqUDtJv",
      "include_colab_link": true
    },
    "kernelspec": {
      "name": "python3",
      "display_name": "Python 3"
    },
    "language_info": {
      "name": "python"
    }
  },
  "cells": [
    {
      "cell_type": "markdown",
      "metadata": {
        "id": "view-in-github",
        "colab_type": "text"
      },
      "source": [
        "<a href=\"https://colab.research.google.com/github/0x0is1/eigenface-mesh/blob/main/eigenface-mesh-poc.ipynb\" target=\"_parent\"><img src=\"https://colab.research.google.com/assets/colab-badge.svg\" alt=\"Open In Colab\"/></a>"
      ]
    },
    {
      "cell_type": "markdown",
      "source": [
        "This work is based on this paper https://koreascience.kr/article/JAKO201336447761947.pdf"
      ],
      "metadata": {
        "id": "swhOOQ-k98Y8"
      }
    },
    {
      "cell_type": "code",
      "source": [
        "!pip install pycryptodome"
      ],
      "metadata": {
        "colab": {
          "base_uri": "https://localhost:8080/"
        },
        "id": "rdv_C2hHaZAN",
        "outputId": "1cd5048b-c3f2-4e47-a101-507530c57773"
      },
      "execution_count": null,
      "outputs": [
        {
          "output_type": "stream",
          "name": "stdout",
          "text": [
            "Requirement already satisfied: pycryptodome in /usr/local/lib/python3.10/dist-packages (3.20.0)\n"
          ]
        }
      ]
    },
    {
      "cell_type": "code",
      "source": [
        "!pip install kaggle"
      ],
      "metadata": {
        "colab": {
          "base_uri": "https://localhost:8080/"
        },
        "id": "FOXXes-AagiJ",
        "outputId": "6a001d25-70ed-44e4-f4f0-3270609b67fb"
      },
      "execution_count": null,
      "outputs": [
        {
          "output_type": "stream",
          "name": "stdout",
          "text": [
            "Requirement already satisfied: kaggle in /usr/local/lib/python3.10/dist-packages (1.5.16)\n",
            "Requirement already satisfied: six>=1.10 in /usr/local/lib/python3.10/dist-packages (from kaggle) (1.16.0)\n",
            "Requirement already satisfied: certifi in /usr/local/lib/python3.10/dist-packages (from kaggle) (2024.2.2)\n",
            "Requirement already satisfied: python-dateutil in /usr/local/lib/python3.10/dist-packages (from kaggle) (2.8.2)\n",
            "Requirement already satisfied: requests in /usr/local/lib/python3.10/dist-packages (from kaggle) (2.31.0)\n",
            "Requirement already satisfied: tqdm in /usr/local/lib/python3.10/dist-packages (from kaggle) (4.66.2)\n",
            "Requirement already satisfied: python-slugify in /usr/local/lib/python3.10/dist-packages (from kaggle) (8.0.4)\n",
            "Requirement already satisfied: urllib3 in /usr/local/lib/python3.10/dist-packages (from kaggle) (2.0.7)\n",
            "Requirement already satisfied: bleach in /usr/local/lib/python3.10/dist-packages (from kaggle) (6.1.0)\n",
            "Requirement already satisfied: webencodings in /usr/local/lib/python3.10/dist-packages (from bleach->kaggle) (0.5.1)\n",
            "Requirement already satisfied: text-unidecode>=1.3 in /usr/local/lib/python3.10/dist-packages (from python-slugify->kaggle) (1.3)\n",
            "Requirement already satisfied: charset-normalizer<4,>=2 in /usr/local/lib/python3.10/dist-packages (from requests->kaggle) (3.3.2)\n",
            "Requirement already satisfied: idna<4,>=2.5 in /usr/local/lib/python3.10/dist-packages (from requests->kaggle) (3.7)\n"
          ]
        }
      ]
    },
    {
      "cell_type": "code",
      "source": [
        "from google.colab import files\n",
        "uploaded = files.upload()"
      ],
      "metadata": {
        "colab": {
          "base_uri": "https://localhost:8080/",
          "height": 73
        },
        "id": "3gYu7zb6amPR",
        "outputId": "d957a681-db41-45b2-f6eb-bd270b11356a"
      },
      "execution_count": null,
      "outputs": [
        {
          "output_type": "display_data",
          "data": {
            "text/plain": [
              "<IPython.core.display.HTML object>"
            ],
            "text/html": [
              "\n",
              "     <input type=\"file\" id=\"files-18fdf4c7-4d7d-4866-9378-1c51866744e3\" name=\"files[]\" multiple disabled\n",
              "        style=\"border:none\" />\n",
              "     <output id=\"result-18fdf4c7-4d7d-4866-9378-1c51866744e3\">\n",
              "      Upload widget is only available when the cell has been executed in the\n",
              "      current browser session. Please rerun this cell to enable.\n",
              "      </output>\n",
              "      <script>// Copyright 2017 Google LLC\n",
              "//\n",
              "// Licensed under the Apache License, Version 2.0 (the \"License\");\n",
              "// you may not use this file except in compliance with the License.\n",
              "// You may obtain a copy of the License at\n",
              "//\n",
              "//      http://www.apache.org/licenses/LICENSE-2.0\n",
              "//\n",
              "// Unless required by applicable law or agreed to in writing, software\n",
              "// distributed under the License is distributed on an \"AS IS\" BASIS,\n",
              "// WITHOUT WARRANTIES OR CONDITIONS OF ANY KIND, either express or implied.\n",
              "// See the License for the specific language governing permissions and\n",
              "// limitations under the License.\n",
              "\n",
              "/**\n",
              " * @fileoverview Helpers for google.colab Python module.\n",
              " */\n",
              "(function(scope) {\n",
              "function span(text, styleAttributes = {}) {\n",
              "  const element = document.createElement('span');\n",
              "  element.textContent = text;\n",
              "  for (const key of Object.keys(styleAttributes)) {\n",
              "    element.style[key] = styleAttributes[key];\n",
              "  }\n",
              "  return element;\n",
              "}\n",
              "\n",
              "// Max number of bytes which will be uploaded at a time.\n",
              "const MAX_PAYLOAD_SIZE = 100 * 1024;\n",
              "\n",
              "function _uploadFiles(inputId, outputId) {\n",
              "  const steps = uploadFilesStep(inputId, outputId);\n",
              "  const outputElement = document.getElementById(outputId);\n",
              "  // Cache steps on the outputElement to make it available for the next call\n",
              "  // to uploadFilesContinue from Python.\n",
              "  outputElement.steps = steps;\n",
              "\n",
              "  return _uploadFilesContinue(outputId);\n",
              "}\n",
              "\n",
              "// This is roughly an async generator (not supported in the browser yet),\n",
              "// where there are multiple asynchronous steps and the Python side is going\n",
              "// to poll for completion of each step.\n",
              "// This uses a Promise to block the python side on completion of each step,\n",
              "// then passes the result of the previous step as the input to the next step.\n",
              "function _uploadFilesContinue(outputId) {\n",
              "  const outputElement = document.getElementById(outputId);\n",
              "  const steps = outputElement.steps;\n",
              "\n",
              "  const next = steps.next(outputElement.lastPromiseValue);\n",
              "  return Promise.resolve(next.value.promise).then((value) => {\n",
              "    // Cache the last promise value to make it available to the next\n",
              "    // step of the generator.\n",
              "    outputElement.lastPromiseValue = value;\n",
              "    return next.value.response;\n",
              "  });\n",
              "}\n",
              "\n",
              "/**\n",
              " * Generator function which is called between each async step of the upload\n",
              " * process.\n",
              " * @param {string} inputId Element ID of the input file picker element.\n",
              " * @param {string} outputId Element ID of the output display.\n",
              " * @return {!Iterable<!Object>} Iterable of next steps.\n",
              " */\n",
              "function* uploadFilesStep(inputId, outputId) {\n",
              "  const inputElement = document.getElementById(inputId);\n",
              "  inputElement.disabled = false;\n",
              "\n",
              "  const outputElement = document.getElementById(outputId);\n",
              "  outputElement.innerHTML = '';\n",
              "\n",
              "  const pickedPromise = new Promise((resolve) => {\n",
              "    inputElement.addEventListener('change', (e) => {\n",
              "      resolve(e.target.files);\n",
              "    });\n",
              "  });\n",
              "\n",
              "  const cancel = document.createElement('button');\n",
              "  inputElement.parentElement.appendChild(cancel);\n",
              "  cancel.textContent = 'Cancel upload';\n",
              "  const cancelPromise = new Promise((resolve) => {\n",
              "    cancel.onclick = () => {\n",
              "      resolve(null);\n",
              "    };\n",
              "  });\n",
              "\n",
              "  // Wait for the user to pick the files.\n",
              "  const files = yield {\n",
              "    promise: Promise.race([pickedPromise, cancelPromise]),\n",
              "    response: {\n",
              "      action: 'starting',\n",
              "    }\n",
              "  };\n",
              "\n",
              "  cancel.remove();\n",
              "\n",
              "  // Disable the input element since further picks are not allowed.\n",
              "  inputElement.disabled = true;\n",
              "\n",
              "  if (!files) {\n",
              "    return {\n",
              "      response: {\n",
              "        action: 'complete',\n",
              "      }\n",
              "    };\n",
              "  }\n",
              "\n",
              "  for (const file of files) {\n",
              "    const li = document.createElement('li');\n",
              "    li.append(span(file.name, {fontWeight: 'bold'}));\n",
              "    li.append(span(\n",
              "        `(${file.type || 'n/a'}) - ${file.size} bytes, ` +\n",
              "        `last modified: ${\n",
              "            file.lastModifiedDate ? file.lastModifiedDate.toLocaleDateString() :\n",
              "                                    'n/a'} - `));\n",
              "    const percent = span('0% done');\n",
              "    li.appendChild(percent);\n",
              "\n",
              "    outputElement.appendChild(li);\n",
              "\n",
              "    const fileDataPromise = new Promise((resolve) => {\n",
              "      const reader = new FileReader();\n",
              "      reader.onload = (e) => {\n",
              "        resolve(e.target.result);\n",
              "      };\n",
              "      reader.readAsArrayBuffer(file);\n",
              "    });\n",
              "    // Wait for the data to be ready.\n",
              "    let fileData = yield {\n",
              "      promise: fileDataPromise,\n",
              "      response: {\n",
              "        action: 'continue',\n",
              "      }\n",
              "    };\n",
              "\n",
              "    // Use a chunked sending to avoid message size limits. See b/62115660.\n",
              "    let position = 0;\n",
              "    do {\n",
              "      const length = Math.min(fileData.byteLength - position, MAX_PAYLOAD_SIZE);\n",
              "      const chunk = new Uint8Array(fileData, position, length);\n",
              "      position += length;\n",
              "\n",
              "      const base64 = btoa(String.fromCharCode.apply(null, chunk));\n",
              "      yield {\n",
              "        response: {\n",
              "          action: 'append',\n",
              "          file: file.name,\n",
              "          data: base64,\n",
              "        },\n",
              "      };\n",
              "\n",
              "      let percentDone = fileData.byteLength === 0 ?\n",
              "          100 :\n",
              "          Math.round((position / fileData.byteLength) * 100);\n",
              "      percent.textContent = `${percentDone}% done`;\n",
              "\n",
              "    } while (position < fileData.byteLength);\n",
              "  }\n",
              "\n",
              "  // All done.\n",
              "  yield {\n",
              "    response: {\n",
              "      action: 'complete',\n",
              "    }\n",
              "  };\n",
              "}\n",
              "\n",
              "scope.google = scope.google || {};\n",
              "scope.google.colab = scope.google.colab || {};\n",
              "scope.google.colab._files = {\n",
              "  _uploadFiles,\n",
              "  _uploadFilesContinue,\n",
              "};\n",
              "})(self);\n",
              "</script> "
            ]
          },
          "metadata": {}
        },
        {
          "output_type": "stream",
          "name": "stdout",
          "text": [
            "Saving kaggle.json to kaggle (1).json\n"
          ]
        }
      ]
    },
    {
      "cell_type": "code",
      "source": [
        "!mkdir /root/.kaggle\n",
        "!mv kaggle.json /root/.kaggle/"
      ],
      "metadata": {
        "id": "M6R0dsmXb_AQ",
        "colab": {
          "base_uri": "https://localhost:8080/"
        },
        "outputId": "6dd8fc26-d87d-464b-ad39-a57a53a2648f"
      },
      "execution_count": null,
      "outputs": [
        {
          "output_type": "stream",
          "name": "stdout",
          "text": [
            "mkdir: cannot create directory ‘/root/.kaggle’: File exists\n"
          ]
        }
      ]
    },
    {
      "cell_type": "code",
      "source": [
        "!ls /root/.kaggle"
      ],
      "metadata": {
        "colab": {
          "base_uri": "https://localhost:8080/"
        },
        "id": "Y0gZZMu3cd85",
        "outputId": "5b156173-5e09-4fe7-839f-535e045a0168"
      },
      "execution_count": null,
      "outputs": [
        {
          "output_type": "stream",
          "name": "stdout",
          "text": [
            "kaggle.json\n"
          ]
        }
      ]
    },
    {
      "cell_type": "code",
      "source": [
        "!kaggle datasets download olgabelitskaya/yale-face-database"
      ],
      "metadata": {
        "colab": {
          "base_uri": "https://localhost:8080/"
        },
        "id": "zGm2Y7vbckS-",
        "outputId": "6f4d189e-99de-4e10-b228-940e9dd355d8"
      },
      "execution_count": null,
      "outputs": [
        {
          "output_type": "stream",
          "name": "stdout",
          "text": [
            "Warning: Your Kaggle API key is readable by other users on this system! To fix this, you can run 'chmod 600 /root/.kaggle/kaggle.json'\n",
            "Downloading yale-face-database.zip to /content\n",
            " 85% 10.0M/11.8M [00:01<00:00, 16.0MB/s]\n",
            "100% 11.8M/11.8M [00:01<00:00, 10.3MB/s]\n"
          ]
        }
      ]
    },
    {
      "cell_type": "code",
      "source": [
        "!mkdir yale-face-database\n",
        "!unzip ./yale-face-database.zip -d ./yale-face-database/"
      ],
      "metadata": {
        "id": "wyuTjSiNczWY",
        "colab": {
          "base_uri": "https://localhost:8080/"
        },
        "outputId": "0508b99b-6ffd-4896-8351-d8d8469a59cc"
      },
      "execution_count": null,
      "outputs": [
        {
          "output_type": "stream",
          "name": "stdout",
          "text": [
            "mkdir: cannot create directory ‘yale-face-database’: File exists\n",
            "Archive:  ./yale-face-database.zip\n",
            "  inflating: ./yale-face-database/Readme.txt  \n",
            "  inflating: ./yale-face-database/data/Readme.txt  \n",
            "  inflating: ./yale-face-database/data/subject01.centerlight  \n",
            "  inflating: ./yale-face-database/data/subject01.glasses  \n",
            "  inflating: ./yale-face-database/data/subject01.happy  \n",
            "  inflating: ./yale-face-database/data/subject01.leftlight  \n",
            "  inflating: ./yale-face-database/data/subject01.noglasses  \n",
            "  inflating: ./yale-face-database/data/subject01.normal  \n",
            "  inflating: ./yale-face-database/data/subject01.rightlight  \n",
            "  inflating: ./yale-face-database/data/subject01.sad  \n",
            "  inflating: ./yale-face-database/data/subject01.sleepy  \n",
            "  inflating: ./yale-face-database/data/subject01.surprised  \n",
            "  inflating: ./yale-face-database/data/subject01.wink  \n",
            "  inflating: ./yale-face-database/data/subject02.centerlight  \n",
            "  inflating: ./yale-face-database/data/subject02.glasses  \n",
            "  inflating: ./yale-face-database/data/subject02.happy  \n",
            "  inflating: ./yale-face-database/data/subject02.leftlight  \n",
            "  inflating: ./yale-face-database/data/subject02.noglasses  \n",
            "  inflating: ./yale-face-database/data/subject02.normal  \n",
            "  inflating: ./yale-face-database/data/subject02.rightlight  \n",
            "  inflating: ./yale-face-database/data/subject02.sad  \n",
            "  inflating: ./yale-face-database/data/subject02.sleepy  \n",
            "  inflating: ./yale-face-database/data/subject02.surprised  \n",
            "  inflating: ./yale-face-database/data/subject02.wink  \n",
            "  inflating: ./yale-face-database/data/subject03.centerlight  \n",
            "  inflating: ./yale-face-database/data/subject03.glasses  \n",
            "  inflating: ./yale-face-database/data/subject03.happy  \n",
            "  inflating: ./yale-face-database/data/subject03.leftlight  \n",
            "  inflating: ./yale-face-database/data/subject03.noglasses  \n",
            "  inflating: ./yale-face-database/data/subject03.normal  \n",
            "  inflating: ./yale-face-database/data/subject03.rightlight  \n",
            "  inflating: ./yale-face-database/data/subject03.sad  \n",
            "  inflating: ./yale-face-database/data/subject03.sleepy  \n",
            "  inflating: ./yale-face-database/data/subject03.surprised  \n",
            "  inflating: ./yale-face-database/data/subject03.wink  \n",
            "  inflating: ./yale-face-database/data/subject04.centerlight  \n",
            "  inflating: ./yale-face-database/data/subject04.glasses  \n",
            "  inflating: ./yale-face-database/data/subject04.happy  \n",
            "  inflating: ./yale-face-database/data/subject04.leftlight  \n",
            "  inflating: ./yale-face-database/data/subject04.noglasses  \n",
            "  inflating: ./yale-face-database/data/subject04.normal  \n",
            "  inflating: ./yale-face-database/data/subject04.rightlight  \n",
            "  inflating: ./yale-face-database/data/subject04.sad  \n",
            "  inflating: ./yale-face-database/data/subject04.sleepy  \n",
            "  inflating: ./yale-face-database/data/subject04.surprised  \n",
            "  inflating: ./yale-face-database/data/subject04.wink  \n",
            "  inflating: ./yale-face-database/data/subject05.centerlight  \n",
            "  inflating: ./yale-face-database/data/subject05.glasses  \n",
            "  inflating: ./yale-face-database/data/subject05.happy  \n",
            "  inflating: ./yale-face-database/data/subject05.leftlight  \n",
            "  inflating: ./yale-face-database/data/subject05.noglasses  \n",
            "  inflating: ./yale-face-database/data/subject05.normal  \n",
            "  inflating: ./yale-face-database/data/subject05.rightlight  \n",
            "  inflating: ./yale-face-database/data/subject05.sad  \n",
            "  inflating: ./yale-face-database/data/subject05.sleepy  \n",
            "  inflating: ./yale-face-database/data/subject05.surprised  \n",
            "  inflating: ./yale-face-database/data/subject05.wink  \n",
            "  inflating: ./yale-face-database/data/subject06.centerlight  \n",
            "  inflating: ./yale-face-database/data/subject06.glasses  \n",
            "  inflating: ./yale-face-database/data/subject06.happy  \n",
            "  inflating: ./yale-face-database/data/subject06.leftlight  \n",
            "  inflating: ./yale-face-database/data/subject06.noglasses  \n",
            "  inflating: ./yale-face-database/data/subject06.normal  \n",
            "  inflating: ./yale-face-database/data/subject06.rightlight  \n",
            "  inflating: ./yale-face-database/data/subject06.sad  \n",
            "  inflating: ./yale-face-database/data/subject06.sleepy  \n",
            "  inflating: ./yale-face-database/data/subject06.surprised  \n",
            "  inflating: ./yale-face-database/data/subject06.wink  \n",
            "  inflating: ./yale-face-database/data/subject07.centerlight  \n",
            "  inflating: ./yale-face-database/data/subject07.glasses  \n",
            "  inflating: ./yale-face-database/data/subject07.happy  \n",
            "  inflating: ./yale-face-database/data/subject07.leftlight  \n",
            "  inflating: ./yale-face-database/data/subject07.noglasses  \n",
            "  inflating: ./yale-face-database/data/subject07.normal  \n",
            "  inflating: ./yale-face-database/data/subject07.rightlight  \n",
            "  inflating: ./yale-face-database/data/subject07.sad  \n",
            "  inflating: ./yale-face-database/data/subject07.sleepy  \n",
            "  inflating: ./yale-face-database/data/subject07.surprised  \n",
            "  inflating: ./yale-face-database/data/subject07.wink  \n",
            "  inflating: ./yale-face-database/data/subject08.centerlight  \n",
            "  inflating: ./yale-face-database/data/subject08.glasses  \n",
            "  inflating: ./yale-face-database/data/subject08.happy  \n",
            "  inflating: ./yale-face-database/data/subject08.leftlight  \n",
            "  inflating: ./yale-face-database/data/subject08.noglasses  \n",
            "  inflating: ./yale-face-database/data/subject08.normal  \n",
            "  inflating: ./yale-face-database/data/subject08.rightlight  \n",
            "  inflating: ./yale-face-database/data/subject08.sad  \n",
            "  inflating: ./yale-face-database/data/subject08.sleepy  \n",
            "  inflating: ./yale-face-database/data/subject08.surprised  \n",
            "  inflating: ./yale-face-database/data/subject08.wink  \n",
            "  inflating: ./yale-face-database/data/subject09.centerlight  \n",
            "  inflating: ./yale-face-database/data/subject09.glasses  \n",
            "  inflating: ./yale-face-database/data/subject09.happy  \n",
            "  inflating: ./yale-face-database/data/subject09.leftlight  \n",
            "  inflating: ./yale-face-database/data/subject09.noglasses  \n",
            "  inflating: ./yale-face-database/data/subject09.normal  \n",
            "  inflating: ./yale-face-database/data/subject09.rightlight  \n",
            "  inflating: ./yale-face-database/data/subject09.sad  \n",
            "  inflating: ./yale-face-database/data/subject09.sleepy  \n",
            "  inflating: ./yale-face-database/data/subject09.surprised  \n",
            "  inflating: ./yale-face-database/data/subject09.wink  \n",
            "  inflating: ./yale-face-database/data/subject10.centerlight  \n",
            "  inflating: ./yale-face-database/data/subject10.glasses  \n",
            "  inflating: ./yale-face-database/data/subject10.happy  \n",
            "  inflating: ./yale-face-database/data/subject10.leftlight  \n",
            "  inflating: ./yale-face-database/data/subject10.noglasses  \n",
            "  inflating: ./yale-face-database/data/subject10.normal  \n",
            "  inflating: ./yale-face-database/data/subject10.rightlight  \n",
            "  inflating: ./yale-face-database/data/subject10.sad  \n",
            "  inflating: ./yale-face-database/data/subject10.sleepy  \n",
            "  inflating: ./yale-face-database/data/subject10.surprised  \n",
            "  inflating: ./yale-face-database/data/subject10.wink  \n",
            "  inflating: ./yale-face-database/data/subject11.centerlight  \n",
            "  inflating: ./yale-face-database/data/subject11.glasses  \n",
            "  inflating: ./yale-face-database/data/subject11.happy  \n",
            "  inflating: ./yale-face-database/data/subject11.leftlight  \n",
            "  inflating: ./yale-face-database/data/subject11.noglasses  \n",
            "  inflating: ./yale-face-database/data/subject11.normal  \n",
            "  inflating: ./yale-face-database/data/subject11.rightlight  \n",
            "  inflating: ./yale-face-database/data/subject11.sad  \n",
            "  inflating: ./yale-face-database/data/subject11.sleepy  \n",
            "  inflating: ./yale-face-database/data/subject11.surprised  \n",
            "  inflating: ./yale-face-database/data/subject11.wink  \n",
            "  inflating: ./yale-face-database/data/subject12.centerlight  \n",
            "  inflating: ./yale-face-database/data/subject12.glasses  \n",
            "  inflating: ./yale-face-database/data/subject12.happy  \n",
            "  inflating: ./yale-face-database/data/subject12.leftlight  \n",
            "  inflating: ./yale-face-database/data/subject12.noglasses  \n",
            "  inflating: ./yale-face-database/data/subject12.normal  \n",
            "  inflating: ./yale-face-database/data/subject12.rightlight  \n",
            "  inflating: ./yale-face-database/data/subject12.sad  \n",
            "  inflating: ./yale-face-database/data/subject12.sleepy  \n",
            "  inflating: ./yale-face-database/data/subject12.surprised  \n",
            "  inflating: ./yale-face-database/data/subject12.wink  \n",
            "  inflating: ./yale-face-database/data/subject13.centerlight  \n",
            "  inflating: ./yale-face-database/data/subject13.glasses  \n",
            "  inflating: ./yale-face-database/data/subject13.happy  \n",
            "  inflating: ./yale-face-database/data/subject13.leftlight  \n",
            "  inflating: ./yale-face-database/data/subject13.noglasses  \n",
            "  inflating: ./yale-face-database/data/subject13.normal  \n",
            "  inflating: ./yale-face-database/data/subject13.rightlight  \n",
            "  inflating: ./yale-face-database/data/subject13.sad  \n",
            "  inflating: ./yale-face-database/data/subject13.sleepy  \n",
            "  inflating: ./yale-face-database/data/subject13.surprised  \n",
            "  inflating: ./yale-face-database/data/subject13.wink  \n",
            "  inflating: ./yale-face-database/data/subject14.centerlight  \n",
            "  inflating: ./yale-face-database/data/subject14.glasses  \n",
            "  inflating: ./yale-face-database/data/subject14.happy  \n",
            "  inflating: ./yale-face-database/data/subject14.leftlight  \n",
            "  inflating: ./yale-face-database/data/subject14.noglasses  \n",
            "  inflating: ./yale-face-database/data/subject14.normal  \n",
            "  inflating: ./yale-face-database/data/subject14.rightlight  \n",
            "  inflating: ./yale-face-database/data/subject14.sad  \n",
            "  inflating: ./yale-face-database/data/subject14.sleepy  \n",
            "  inflating: ./yale-face-database/data/subject14.surprised  \n",
            "  inflating: ./yale-face-database/data/subject14.wink  \n",
            "  inflating: ./yale-face-database/data/subject15.centerlight  \n",
            "  inflating: ./yale-face-database/data/subject15.glasses  \n",
            "  inflating: ./yale-face-database/data/subject15.happy  \n",
            "  inflating: ./yale-face-database/data/subject15.leftlight  \n",
            "  inflating: ./yale-face-database/data/subject15.noglasses  \n",
            "  inflating: ./yale-face-database/data/subject15.normal  \n",
            "  inflating: ./yale-face-database/data/subject15.rightlight  \n",
            "  inflating: ./yale-face-database/data/subject15.sad  \n",
            "  inflating: ./yale-face-database/data/subject15.sleepy  \n",
            "  inflating: ./yale-face-database/data/subject15.surprised  \n",
            "  inflating: ./yale-face-database/data/subject15.wink  \n",
            "  inflating: ./yale-face-database/subject01.centerlight  \n",
            "  inflating: ./yale-face-database/subject01.glasses  \n",
            "  inflating: ./yale-face-database/subject01.happy  \n",
            "  inflating: ./yale-face-database/subject01.leftlight  \n",
            "  inflating: ./yale-face-database/subject01.noglasses  \n",
            "  inflating: ./yale-face-database/subject01.normal  \n",
            "  inflating: ./yale-face-database/subject01.rightlight  \n",
            "  inflating: ./yale-face-database/subject01.sad  \n",
            "  inflating: ./yale-face-database/subject01.sleepy  \n",
            "  inflating: ./yale-face-database/subject01.surprised  \n",
            "  inflating: ./yale-face-database/subject01.wink  \n",
            "  inflating: ./yale-face-database/subject02.centerlight  \n",
            "  inflating: ./yale-face-database/subject02.glasses  \n",
            "  inflating: ./yale-face-database/subject02.happy  \n",
            "  inflating: ./yale-face-database/subject02.leftlight  \n",
            "  inflating: ./yale-face-database/subject02.noglasses  \n",
            "  inflating: ./yale-face-database/subject02.normal  \n",
            "  inflating: ./yale-face-database/subject02.rightlight  \n",
            "  inflating: ./yale-face-database/subject02.sad  \n",
            "  inflating: ./yale-face-database/subject02.sleepy  \n",
            "  inflating: ./yale-face-database/subject02.surprised  \n",
            "  inflating: ./yale-face-database/subject02.wink  \n",
            "  inflating: ./yale-face-database/subject03.centerlight  \n",
            "  inflating: ./yale-face-database/subject03.glasses  \n",
            "  inflating: ./yale-face-database/subject03.happy  \n",
            "  inflating: ./yale-face-database/subject03.leftlight  \n",
            "  inflating: ./yale-face-database/subject03.noglasses  \n",
            "  inflating: ./yale-face-database/subject03.normal  \n",
            "  inflating: ./yale-face-database/subject03.rightlight  \n",
            "  inflating: ./yale-face-database/subject03.sad  \n",
            "  inflating: ./yale-face-database/subject03.sleepy  \n",
            "  inflating: ./yale-face-database/subject03.surprised  \n",
            "  inflating: ./yale-face-database/subject03.wink  \n",
            "  inflating: ./yale-face-database/subject04.centerlight  \n",
            "  inflating: ./yale-face-database/subject04.glasses  \n",
            "  inflating: ./yale-face-database/subject04.happy  \n",
            "  inflating: ./yale-face-database/subject04.leftlight  \n",
            "  inflating: ./yale-face-database/subject04.noglasses  \n",
            "  inflating: ./yale-face-database/subject04.normal  \n",
            "  inflating: ./yale-face-database/subject04.rightlight  \n",
            "  inflating: ./yale-face-database/subject04.sad  \n",
            "  inflating: ./yale-face-database/subject04.sleepy  \n",
            "  inflating: ./yale-face-database/subject04.surprised  \n",
            "  inflating: ./yale-face-database/subject04.wink  \n",
            "  inflating: ./yale-face-database/subject05.centerlight  \n",
            "  inflating: ./yale-face-database/subject05.glasses  \n",
            "  inflating: ./yale-face-database/subject05.happy  \n",
            "  inflating: ./yale-face-database/subject05.leftlight  \n",
            "  inflating: ./yale-face-database/subject05.noglasses  \n",
            "  inflating: ./yale-face-database/subject05.normal  \n",
            "  inflating: ./yale-face-database/subject05.rightlight  \n",
            "  inflating: ./yale-face-database/subject05.sad  \n",
            "  inflating: ./yale-face-database/subject05.sleepy  \n",
            "  inflating: ./yale-face-database/subject05.surprised  \n",
            "  inflating: ./yale-face-database/subject05.wink  \n",
            "  inflating: ./yale-face-database/subject06.centerlight  \n",
            "  inflating: ./yale-face-database/subject06.glasses  \n",
            "  inflating: ./yale-face-database/subject06.happy  \n",
            "  inflating: ./yale-face-database/subject06.leftlight  \n",
            "  inflating: ./yale-face-database/subject06.noglasses  \n",
            "  inflating: ./yale-face-database/subject06.normal  \n",
            "  inflating: ./yale-face-database/subject06.rightlight  \n",
            "  inflating: ./yale-face-database/subject06.sad  \n",
            "  inflating: ./yale-face-database/subject06.sleepy  \n",
            "  inflating: ./yale-face-database/subject06.surprised  \n",
            "  inflating: ./yale-face-database/subject06.wink  \n",
            "  inflating: ./yale-face-database/subject07.centerlight  \n",
            "  inflating: ./yale-face-database/subject07.glasses  \n",
            "  inflating: ./yale-face-database/subject07.happy  \n",
            "  inflating: ./yale-face-database/subject07.leftlight  \n",
            "  inflating: ./yale-face-database/subject07.noglasses  \n",
            "  inflating: ./yale-face-database/subject07.normal  \n",
            "  inflating: ./yale-face-database/subject07.rightlight  \n",
            "  inflating: ./yale-face-database/subject07.sad  \n",
            "  inflating: ./yale-face-database/subject07.sleepy  \n",
            "  inflating: ./yale-face-database/subject07.surprised  \n",
            "  inflating: ./yale-face-database/subject07.wink  \n",
            "  inflating: ./yale-face-database/subject08.centerlight  \n",
            "  inflating: ./yale-face-database/subject08.glasses  \n",
            "  inflating: ./yale-face-database/subject08.happy  \n",
            "  inflating: ./yale-face-database/subject08.leftlight  \n",
            "  inflating: ./yale-face-database/subject08.noglasses  \n",
            "  inflating: ./yale-face-database/subject08.normal  \n",
            "  inflating: ./yale-face-database/subject08.rightlight  \n",
            "  inflating: ./yale-face-database/subject08.sad  \n",
            "  inflating: ./yale-face-database/subject08.sleepy  \n",
            "  inflating: ./yale-face-database/subject08.surprised  \n",
            "  inflating: ./yale-face-database/subject08.wink  \n",
            "  inflating: ./yale-face-database/subject09.centerlight  \n",
            "  inflating: ./yale-face-database/subject09.glasses  \n",
            "  inflating: ./yale-face-database/subject09.happy  \n",
            "  inflating: ./yale-face-database/subject09.leftlight  \n",
            "  inflating: ./yale-face-database/subject09.noglasses  \n",
            "  inflating: ./yale-face-database/subject09.normal  \n",
            "  inflating: ./yale-face-database/subject09.rightlight  \n",
            "  inflating: ./yale-face-database/subject09.sad  \n",
            "  inflating: ./yale-face-database/subject09.sleepy  \n",
            "  inflating: ./yale-face-database/subject09.surprised  \n",
            "  inflating: ./yale-face-database/subject09.wink  \n",
            "  inflating: ./yale-face-database/subject10.centerlight  \n",
            "  inflating: ./yale-face-database/subject10.glasses  \n",
            "  inflating: ./yale-face-database/subject10.happy  \n",
            "  inflating: ./yale-face-database/subject10.leftlight  \n",
            "  inflating: ./yale-face-database/subject10.noglasses  \n",
            "  inflating: ./yale-face-database/subject10.normal  \n",
            "  inflating: ./yale-face-database/subject10.rightlight  \n",
            "  inflating: ./yale-face-database/subject10.sad  \n",
            "  inflating: ./yale-face-database/subject10.sleepy  \n",
            "  inflating: ./yale-face-database/subject10.surprised  \n",
            "  inflating: ./yale-face-database/subject10.wink  \n",
            "  inflating: ./yale-face-database/subject11.centerlight  \n",
            "  inflating: ./yale-face-database/subject11.glasses  \n",
            "  inflating: ./yale-face-database/subject11.happy  \n",
            "  inflating: ./yale-face-database/subject11.leftlight  \n",
            "  inflating: ./yale-face-database/subject11.noglasses  \n",
            "  inflating: ./yale-face-database/subject11.normal  \n",
            "  inflating: ./yale-face-database/subject11.rightlight  \n",
            "  inflating: ./yale-face-database/subject11.sad  \n",
            "  inflating: ./yale-face-database/subject11.sleepy  \n",
            "  inflating: ./yale-face-database/subject11.surprised  \n",
            "  inflating: ./yale-face-database/subject11.wink  \n",
            "  inflating: ./yale-face-database/subject12.centerlight  \n",
            "  inflating: ./yale-face-database/subject12.glasses  \n",
            "  inflating: ./yale-face-database/subject12.happy  \n",
            "  inflating: ./yale-face-database/subject12.leftlight  \n",
            "  inflating: ./yale-face-database/subject12.noglasses  \n",
            "  inflating: ./yale-face-database/subject12.normal  \n",
            "  inflating: ./yale-face-database/subject12.rightlight  \n",
            "  inflating: ./yale-face-database/subject12.sad  \n",
            "  inflating: ./yale-face-database/subject12.sleepy  \n",
            "  inflating: ./yale-face-database/subject12.surprised  \n",
            "  inflating: ./yale-face-database/subject12.wink  \n",
            "  inflating: ./yale-face-database/subject13.centerlight  \n",
            "  inflating: ./yale-face-database/subject13.glasses  \n",
            "  inflating: ./yale-face-database/subject13.happy  \n",
            "  inflating: ./yale-face-database/subject13.leftlight  \n",
            "  inflating: ./yale-face-database/subject13.noglasses  \n",
            "  inflating: ./yale-face-database/subject13.normal  \n",
            "  inflating: ./yale-face-database/subject13.rightlight  \n",
            "  inflating: ./yale-face-database/subject13.sad  \n",
            "  inflating: ./yale-face-database/subject13.sleepy  \n",
            "  inflating: ./yale-face-database/subject13.surprised  \n",
            "  inflating: ./yale-face-database/subject13.wink  \n",
            "  inflating: ./yale-face-database/subject14.centerlight  \n",
            "  inflating: ./yale-face-database/subject14.glasses  \n",
            "  inflating: ./yale-face-database/subject14.happy  \n",
            "  inflating: ./yale-face-database/subject14.leftlight  \n",
            "  inflating: ./yale-face-database/subject14.noglasses  \n",
            "  inflating: ./yale-face-database/subject14.normal  \n",
            "  inflating: ./yale-face-database/subject14.rightlight  \n",
            "  inflating: ./yale-face-database/subject14.sad  \n",
            "  inflating: ./yale-face-database/subject14.sleepy  \n",
            "  inflating: ./yale-face-database/subject14.surprised  \n",
            "  inflating: ./yale-face-database/subject14.wink  \n",
            "  inflating: ./yale-face-database/subject15.centerlight  \n",
            "  inflating: ./yale-face-database/subject15.glasses  \n",
            "  inflating: ./yale-face-database/subject15.happy  \n",
            "  inflating: ./yale-face-database/subject15.leftlight  \n",
            "  inflating: ./yale-face-database/subject15.noglasses  \n",
            "  inflating: ./yale-face-database/subject15.normal  \n",
            "  inflating: ./yale-face-database/subject15.rightlight  \n",
            "  inflating: ./yale-face-database/subject15.sad  \n",
            "  inflating: ./yale-face-database/subject15.sleepy  \n",
            "  inflating: ./yale-face-database/subject15.surprised  \n",
            "  inflating: ./yale-face-database/subject15.wink  \n"
          ]
        }
      ]
    },
    {
      "cell_type": "code",
      "source": [
        "!rm ./yale-face-database/data/Readme.txt"
      ],
      "metadata": {
        "id": "5-3k7A2zc95N"
      },
      "execution_count": null,
      "outputs": []
    },
    {
      "cell_type": "code",
      "source": [
        "!pip install mediapipe opencv-python-headless"
      ],
      "metadata": {
        "colab": {
          "base_uri": "https://localhost:8080/"
        },
        "id": "kPEuLa2UBz-d",
        "outputId": "00dfddd9-739b-41fd-e228-bbba09653448"
      },
      "execution_count": null,
      "outputs": [
        {
          "output_type": "stream",
          "name": "stdout",
          "text": [
            "Successfully installed mediapipe-0.10.11 nvidia-cublas-cu12-12.1.3.1 nvidia-cuda-cupti-cu12-12.1.105 nvidia-cuda-nvrtc-cu12-12.1.105 nvidia-cuda-runtime-cu12-12.1.105 nvidia-cudnn-cu12-8.9.2.26 nvidia-cufft-cu12-11.0.2.54 nvidia-curand-cu12-10.3.2.106 nvidia-cusolver-cu12-11.4.5.107 nvidia-cusparse-cu12-12.1.0.106 nvidia-nccl-cu12-2.19.3 sounddevice-0.4.6\n"
          ]
        }
      ]
    },
    {
      "cell_type": "code",
      "source": [
        "import numpy as np\n",
        "from sklearn.decomposition import PCA\n",
        "from Crypto.Cipher import AES\n",
        "from Crypto.Random import get_random_bytes\n",
        "import os\n",
        "from matplotlib import image as mpimg\n",
        "from PIL import Image\n",
        "import matplotlib.pyplot as plt"
      ],
      "metadata": {
        "id": "7F9jlfi_d03u"
      },
      "execution_count": null,
      "outputs": []
    },
    {
      "cell_type": "code",
      "source": [
        "def load_yale_face_dataset(directory, test_ratio=0.2):\n",
        "    X_train_features = []\n",
        "    X_test_features = []\n",
        "    y_train_labels = []\n",
        "    y_test_labels = []\n",
        "    subject_names = {}\n",
        "    image_files = [f for f in os.listdir(directory) if os.path.isfile(os.path.join(directory, f))]\n",
        "    image_files.sort()\n",
        "    num_images = len(image_files)\n",
        "    num_test_images = int(test_ratio * num_images)\n",
        "    for i, img_name in enumerate(image_files):\n",
        "        img_path = os.path.join(directory, img_name)\n",
        "        img = mpimg.imread(img_path)\n",
        "        if img is not None:\n",
        "            resized_img = np.array(Image.fromarray(img).resize((100, 100)))\n",
        "            flattened_img = resized_img.flatten()\n",
        "            subject_id = int(img_name.split('.')[0][-2:])\n",
        "            subject_name = img_name.split('.')[0].split('_')[0]\n",
        "            subject_names[subject_id] = subject_name\n",
        "            if i < num_test_images:\n",
        "                X_test_features.append(flattened_img)\n",
        "                y_test_labels.append(subject_id)\n",
        "            else:\n",
        "                X_train_features.append(flattened_img)\n",
        "                y_train_labels.append(subject_id)\n",
        "    return (\n",
        "        np.array(X_train_features), np.array(X_test_features),\n",
        "        np.array(y_train_labels), np.array(y_test_labels),\n",
        "        subject_names\n",
        "    )\n"
      ],
      "metadata": {
        "id": "TZXW0KB3d7zU"
      },
      "execution_count": null,
      "outputs": []
    },
    {
      "cell_type": "code",
      "source": [
        "import os\n",
        "import cv2\n",
        "import numpy as np\n",
        "import mediapipe as mp\n",
        "from PIL import Image\n",
        "\n",
        "def extract_mediapipe_face(image_path):\n",
        "    # Load the image using OpenCV\n",
        "    pil_image = Image.open(image_path)\n",
        "    image = np.array(pil_image)\n",
        "\n",
        "    # Convert the image to RGB if it's grayscale\n",
        "    if len(image.shape) == 2:\n",
        "        image = cv2.cvtColor(image, cv2.COLOR_GRAY2RGB)\n",
        "\n",
        "    # Initialize MediaPipe Face Detection\n",
        "    mp_face_detection = mp.solutions.face_detection.FaceDetection(min_detection_confidence=0.5)\n",
        "    # Convert the image to RGB (MediaPipe requires RGB images)\n",
        "    image_rgb = cv2.cvtColor(image, cv2.COLOR_BGR2RGB)\n",
        "\n",
        "    # Process the image with MediaPipe Face Detection\n",
        "    results = mp_face_detection.process(image_rgb)\n",
        "\n",
        "    # Check if any faces were detected\n",
        "    if results.detections:\n",
        "        # Assuming there's only one face detected, get the bounding box coordinates\n",
        "        bbox = results.detections[0].location_data.relative_bounding_box\n",
        "        h, w, _ = image.shape\n",
        "        xmin = int(bbox.xmin * w)\n",
        "        ymin = int(bbox.ymin * h)\n",
        "        xmax = int((bbox.xmin + bbox.width) * w)\n",
        "        ymax = int((bbox.ymin + bbox.height) * h)\n",
        "\n",
        "        # Crop the face region from the image\n",
        "        face_image = image[ymin:ymax, xmin:xmax]\n",
        "\n",
        "        # Resize the face image to a fixed size (e.g., 100x100)\n",
        "        resized_face = cv2.resize(face_image, (100, 100))\n",
        "\n",
        "        # Convert the resized face image to grayscale\n",
        "        gray_face = cv2.cvtColor(resized_face, cv2.COLOR_BGR2GRAY)\n",
        "\n",
        "        return gray_face\n",
        "\n",
        "    else:\n",
        "        print(\"No face detected in the image.\")\n",
        "        return None\n",
        "\n",
        "def load_mediapipe_face_dataset(directory, test_ratio=0.2):\n",
        "    X_train_features = []\n",
        "    X_test_features = []\n",
        "    y_train_labels = []\n",
        "    y_test_labels = []\n",
        "    subject_names = {}\n",
        "    image_files = [f for f in os.listdir(directory) if os.path.isfile(os.path.join(directory, f))]\n",
        "    image_files.sort()\n",
        "    num_images = len(image_files)\n",
        "    num_test_images = int(test_ratio * num_images)\n",
        "\n",
        "    for i, img_name in enumerate(image_files):\n",
        "        img_path = os.path.join(directory, img_name)\n",
        "        # Extract face using MediaPipe\n",
        "        face_image = extract_mediapipe_face(img_path)\n",
        "\n",
        "        if face_image is not None:\n",
        "            flattened_img = face_image.flatten()\n",
        "            subject_id = int(img_name.split('.')[0][-2:])\n",
        "            subject_name = img_name.split('.')[0].split('_')[0]\n",
        "            subject_names[subject_id] = subject_name\n",
        "            if i < num_test_images:\n",
        "                X_test_features.append(flattened_img)\n",
        "                y_test_labels.append(subject_id)\n",
        "            else:\n",
        "                X_train_features.append(flattened_img)\n",
        "                y_train_labels.append(subject_id)\n",
        "\n",
        "    return (\n",
        "        np.array(X_train_features), np.array(X_test_features),\n",
        "        np.array(y_train_labels), np.array(y_test_labels),\n",
        "        subject_names\n",
        "    )"
      ],
      "metadata": {
        "id": "8oMLoiPbCLb5"
      },
      "execution_count": null,
      "outputs": []
    },
    {
      "cell_type": "code",
      "source": [
        "import os\n",
        "import cv2\n",
        "import numpy as np\n",
        "import mediapipe as mp\n",
        "from PIL import Image\n",
        "\n",
        "def extract_mediapipe_face_landmarks(image_path):\n",
        "    pil_image = Image.open(image_path)\n",
        "    image = np.array(pil_image)\n",
        "\n",
        "    if len(image.shape) == 2:\n",
        "        image = cv2.cvtColor(image, cv2.COLOR_GRAY2RGB)\n",
        "\n",
        "    mp_face_mesh = mp.solutions.face_mesh.FaceMesh(min_detection_confidence=0.5, min_tracking_confidence=0.5)\n",
        "    image_rgb = cv2.cvtColor(image, cv2.COLOR_BGR2RGB)\n",
        "    results = mp_face_mesh.process(image_rgb)\n",
        "\n",
        "    if results.multi_face_landmarks:\n",
        "        face_landmarks = results.multi_face_landmarks[0]\n",
        "\n",
        "        landmark_points = []\n",
        "        for landmark in face_landmarks.landmark:\n",
        "            x = landmark.x * image.shape[1]\n",
        "            y = landmark.y * image.shape[0]\n",
        "            landmark_points.append([x, y])\n",
        "\n",
        "        return np.array(landmark_points)\n",
        "\n",
        "    else:\n",
        "        print(\"No face detected in the image.\")\n",
        "        return None\n",
        "\n",
        "def load_mediapipe_face_landmarks_dataset(directory, test_ratio=0.2):\n",
        "    X_train_landmarks = []\n",
        "    X_test_landmarks = []\n",
        "    y_train_labels = []\n",
        "    y_test_labels = []\n",
        "    subject_names = {}\n",
        "    image_files = [f for f in os.listdir(directory) if os.path.isfile(os.path.join(directory, f))]\n",
        "    image_files.sort()\n",
        "    num_images = len(image_files)\n",
        "    num_test_images = int(test_ratio * num_images)\n",
        "\n",
        "    for i, img_name in enumerate(image_files):\n",
        "        img_path = os.path.join(directory, img_name)\n",
        "        landmarks = extract_mediapipe_face_landmarks(img_path)\n",
        "\n",
        "        if landmarks is not None:\n",
        "            flattened_landmarks = landmarks.flatten()\n",
        "            subject_id = int(img_name.split('.')[0][-2:])\n",
        "            subject_name = img_name.split('.')[0].split('_')[0]\n",
        "            subject_names[subject_id] = subject_name\n",
        "            if i < num_test_images:\n",
        "                X_test_landmarks.append(flattened_landmarks)\n",
        "                y_test_labels.append(subject_id)\n",
        "            else:\n",
        "                X_train_landmarks.append(flattened_landmarks)\n",
        "                y_train_labels.append(subject_id)\n",
        "\n",
        "    return (\n",
        "        np.array(X_train_landmarks), np.array(X_test_landmarks),\n",
        "        np.array(y_train_labels), np.array(y_test_labels),\n",
        "        subject_names\n",
        "    )"
      ],
      "metadata": {
        "id": "PW8KnbI_KCbK"
      },
      "execution_count": null,
      "outputs": []
    },
    {
      "cell_type": "code",
      "source": [
        "def compute_eigenfaces(X_train, n_components=10):\n",
        "    if not 0 <= n_components <= min(X_train.shape):\n",
        "        raise ValueError(f\"Invalid value for n_components. It must be between 0 and {min(X_train.shape)}.\")\n",
        "\n",
        "    pca = PCA(n_components=n_components, svd_solver='full')\n",
        "    pca.fit(X_train)\n",
        "    eigenfaces = pca.components_\n",
        "    return eigenfaces, pca.mean_"
      ],
      "metadata": {
        "id": "X0bwrlsdeAQ3"
      },
      "execution_count": null,
      "outputs": []
    },
    {
      "cell_type": "code",
      "source": [
        "def project_faces(X, eigenfaces, pca_mean):\n",
        "    centered_data = X - pca_mean\n",
        "    eigen_space = np.transpose(eigenfaces)\n",
        "    return np.dot(centered_data, eigen_space)"
      ],
      "metadata": {
        "id": "WFY9XF_veDiI"
      },
      "execution_count": null,
      "outputs": []
    },
    {
      "cell_type": "code",
      "source": [
        "def encrypt_face_templates(face_templates, user_key):\n",
        "    cipher = AES.new(user_key, AES.MODE_ECB)\n",
        "    encrypted_templates = [cipher.encrypt(template.tobytes()) for template in face_templates]\n",
        "    return encrypted_templates\n",
        "\n",
        "def decrypt_and_match(test_face_template, encrypted_templates, user_key, mode=0):\n",
        "    cipher = AES.new(user_key, AES.MODE_ECB)\n",
        "    decrypted_templates = [np.frombuffer(cipher.decrypt(encrypted_template), dtype=np.float64) for encrypted_template in encrypted_templates]\n",
        "\n",
        "    if mode==1:\n",
        "      fig, axes = plt.subplots(2, 5, figsize=(10, 5), subplot_kw={'xticks': [], 'yticks': []})\n",
        "      for i, ax in enumerate(axes.flat):\n",
        "          ax.imshow(decrypted_templates[i].reshape(12, 11), cmap='gray')\n",
        "          ax.set_title(f'Decrypted Projection {i+1}')\n",
        "      plt.tight_layout()\n",
        "      plt.show()\n",
        "\n",
        "    distances = [np.linalg.norm(test_face_template - template) for template in decrypted_templates]\n",
        "    min_distance = min(distances)\n",
        "    return np.argmin(distances), min_distance\n"
      ],
      "metadata": {
        "id": "EMOvbBiQeHJD"
      },
      "execution_count": null,
      "outputs": []
    },
    {
      "cell_type": "code",
      "source": [
        "dataset_directory = \"./yale-face-database/data\"\n",
        "# X_train_features, X_test_features, y_train_labels, y_test_labels, subject_names = load_yale_face_dataset(dataset_directory)\n",
        "# X_train_features, X_test_features, y_train_labels, y_test_labels, subject_names = load_mediapipe_face_dataset(dataset_directory)\n",
        "X_train_features, X_test_features, y_train_labels, y_test_labels, subject_names = load_mediapipe_face_landmarks_dataset(dataset_directory)\n"
      ],
      "metadata": {
        "id": "yQ8bE_YjggdP"
      },
      "execution_count": null,
      "outputs": []
    },
    {
      "cell_type": "code",
      "source": [
        "try:\n",
        "    if len(X_train_features) > 0 and len(X_test_features) > 0:\n",
        "        eigenfaces, pca_mean = compute_eigenfaces(X_train_features, n_components=132)\n",
        "        fig, axes = plt.subplots(2, 5, figsize=(10, 4), subplot_kw={'xticks': [], 'yticks': []})\n",
        "        for i, ax in enumerate(axes.flat):\n",
        "            # ax.imshow(eigenfaces[i].reshape(100, 100), cmap='gray')\n",
        "            ax.imshow(eigenfaces[i].reshape(36, 26), cmap='gray')\n",
        "            ax.set_title(f'Eigenface {i+1}')\n",
        "\n",
        "        plt.tight_layout()\n",
        "        plt.show()\n",
        "except Exception as e:\n",
        "    print(e)\n"
      ],
      "metadata": {
        "colab": {
          "base_uri": "https://localhost:8080/",
          "height": 407
        },
        "id": "S1UxNoLKeK2H",
        "outputId": "289bd63c-04e8-48d9-f445-e6e618c7d532"
      },
      "execution_count": null,
      "outputs": [
        {
          "output_type": "display_data",
          "data": {
            "text/plain": [
              "<Figure size 1000x400 with 10 Axes>"
            ],
            "image/png": "[encoded data removed]"
          },
          "metadata": {}
        }
      ]
    },
    {
      "cell_type": "code",
      "source": [
        "projected_train_faces = project_faces(X_train_features, eigenfaces, pca_mean)\n",
        "fig, axes = plt.subplots(2, 5, figsize=(10, 5), subplot_kw={'xticks': [], 'yticks': []})\n",
        "for i, ax in enumerate(axes.flat):\n",
        "    ax.imshow(projected_train_faces[i].reshape(12, 11), cmap='gray')\n",
        "    ax.set_title(f'Projection {i+1}')\n",
        "\n",
        "plt.tight_layout()\n",
        "plt.show()"
      ],
      "metadata": {
        "colab": {
          "base_uri": "https://localhost:8080/",
          "height": 493
        },
        "id": "Px9j5qJKg42N",
        "outputId": "5068f32d-9b93-4ed3-dc9d-af59e67609e2"
      },
      "execution_count": null,
      "outputs": [
        {
          "output_type": "display_data",
          "data": {
            "text/plain": [
              "<Figure size 1000x500 with 10 Axes>"
            ],
            "image/png": "[encoded data removed]"
          },
          "metadata": {}
        }
      ]
    },
    {
      "cell_type": "code",
      "source": [
        "user_key = get_random_bytes(16)\n",
        "encrypted_train_templates = encrypt_face_templates(projected_train_faces, user_key)\n",
        "for i, j in enumerate(encrypted_train_templates[:11]):\n",
        "  print(f'AES encrypted face template {i}: {j[:20]}...')"
      ],
      "metadata": {
        "colab": {
          "base_uri": "https://localhost:8080/"
        },
        "id": "uJ0xnmZ-jRqA",
        "outputId": "7dd4b88b-e298-49bb-aac0-3936e8e24e87"
      },
      "execution_count": null,
      "outputs": [
        {
          "output_type": "stream",
          "name": "stdout",
          "text": [
            "AES encrypted face template 0: b'\\xa4\\xea\\x8ar$\\xe5\\x95\\xb9>b,\\xc7\\xa8Q\\x904\\x1b\\x8c>\\x87'...\n",
            "AES encrypted face template 1: b'\\xff\\x17\\x12\\xe1|\\x03|D\\x19\\x1aO\\x04\\xe6\\xf2\\xd6\\x95\\x90-\\x87\\xc6'...\n",
            "AES encrypted face template 2: b'IO\\xd3\\x80\\xac*\\xb2\\xedf\\x14O*\\xbb(hR\\t\\xb1\\x18\\xf6'...\n",
            "AES encrypted face template 3: b'\\xbe\\x108\\xb4\\xaf\\x97\\xcb#lMtg\\x96\\x183\\x082\\xbd\\x9a\\xcb'...\n",
            "AES encrypted face template 4: b'\\xd2\\xd71p\\xe9\\x15\"\\xd2%\\xc4D\\xf2\\xddh\\xca\\x8eGX\\x86a'...\n",
            "AES encrypted face template 5: b'F]\\xf4\\x81\\x15E\\xa7\\x9f\\x07^tl\\x9eP8tPi\\xc1n'...\n",
            "AES encrypted face template 6: b'\\xd4\\xf2\\x85Y\\xa7A\\xb0\\xb5#hfN\\xcb\\xae\\x82\\xb7\\xff\\x97\\x1c\\xba'...\n",
            "AES encrypted face template 7: b'F]\\xf4\\x81\\x15E\\xa7\\x9f\\x07^tl\\x9eP8tPi\\xc1n'...\n",
            "AES encrypted face template 8: b'\\xe2w^a\\x0c\\x8d\\x15\\xa4\\xc1\\x8d\\xbb5\\\\\\r\\x1d\\xbf\\xe9U\\x94\\xde'...\n",
            "AES encrypted face template 9: b'Jro\\xfb\\xf5\\xd5\\xcaQ1\\xc5\\xb3\\x19\\x8d\\xe8~\\xe8@\\x13oo'...\n",
            "AES encrypted face template 10: b'\\xad\\xad\\xdd\\xbe`\\x02\\x85\\xde\\xf6@\\x8e\\xc6C\\xa9\\x98Rz\\x1a\\xce\\xe3'...\n"
          ]
        }
      ]
    },
    {
      "cell_type": "code",
      "source": [
        "# Test feature 1 projection\n",
        "fig, ax = plt.subplots(1, 1, figsize=(10, 4), subplot_kw={'xticks': [], 'yticks': []})\n",
        "ax.imshow(X_test_features[0].reshape(36, 26), cmap='gray')\n",
        "# ax.imshow(X_test_features[0].reshape(100, 100), cmap='gray')\n",
        "ax.set_title('Eigenface 7')\n",
        "plt.show()"
      ],
      "metadata": {
        "colab": {
          "base_uri": "https://localhost:8080/",
          "height": 367
        },
        "id": "oKshQ5Mk0Eqp",
        "outputId": "cb1eec94-a92e-4f0b-934a-d8f9438a7810"
      },
      "execution_count": null,
      "outputs": [
        {
          "output_type": "display_data",
          "data": {
            "text/plain": [
              "<Figure size 1000x400 with 1 Axes>"
            ],
            "image/png": "[encoded data removed]"
          },
          "metadata": {}
        }
      ]
    },
    {
      "cell_type": "code",
      "source": [
        "# Projection of test feature 1\n",
        "projected_test_face = np.dot(X_test_features[0] - pca_mean, eigenfaces.T)\n",
        "fig, ax = plt.subplots(1, 1, figsize=(10, 4), subplot_kw={'xticks': [], 'yticks': []})\n",
        "ax.imshow(projected_test_face.reshape(12, 11), cmap='gray')\n",
        "ax.set_title('Projection for EF 7')\n",
        "plt.show()"
      ],
      "metadata": {
        "colab": {
          "base_uri": "https://localhost:8080/",
          "height": 367
        },
        "id": "kGLyGtA-07bb",
        "outputId": "3df3d98a-0c9e-4905-c99b-689eb1664ea5"
      },
      "execution_count": null,
      "outputs": [
        {
          "output_type": "display_data",
          "data": {
            "text/plain": [
              "<Figure size 1000x400 with 1 Axes>"
            ],
            "image/png": "[encoded data removed]"
          },
          "metadata": {}
        }
      ]
    },
    {
      "cell_type": "code",
      "source": [
        "test_features = X_test_features[0]\n",
        "\n",
        "projected_test_face = np.dot(test_features - pca_mean, eigenfaces.T)\n",
        "\n",
        "match_result, threshold = decrypt_and_match(projected_test_face, encrypted_train_templates, user_key, 1)\n",
        "matched_label = subject_names[int(match_result/11)+1]\n",
        "print(f\"Subject: {matched_label}, min-threshold: {threshold}\")"
      ],
      "metadata": {
        "colab": {
          "base_uri": "https://localhost:8080/",
          "height": 510
        },
        "id": "Xc7xzvopwqYt",
        "outputId": "d163268e-dab6-4195-c520-d8bb372d7449"
      },
      "execution_count": null,
      "outputs": [
        {
          "output_type": "display_data",
          "data": {
            "text/plain": [
              "<Figure size 1000x500 with 10 Axes>"
            ],
            "image/png": "[encoded data removed]"
          },
          "metadata": {}
        },
        {
          "output_type": "stream",
          "name": "stdout",
          "text": [
            "Subject: subject01, min-threshold: 99.82958524068763\n"
          ]
        }
      ]
    },
    {
      "cell_type": "code",
      "source": [
        "ot = 0\n",
        "for test_features in X_test_features:\n",
        "    projected_test_face = np.dot(test_features - pca_mean, eigenfaces.T)\n",
        "    match_result, threshold = decrypt_and_match(projected_test_face, encrypted_train_templates, user_key)\n",
        "    matched_label = subject_names[int(match_result/11)+1]\n",
        "    ot += threshold\n",
        "    print(f\"Subject: {matched_label}, min-threshold: {threshold}\")\n",
        "print(f\"Average Threshold : {ot/len(X_test_features)}\")"
      ],
      "metadata": {
        "colab": {
          "base_uri": "https://localhost:8080/"
        },
        "id": "WMfviGJ4y9Hg",
        "outputId": "6af68b50-6950-409f-9a4f-d5c2e15f6e37"
      },
      "execution_count": null,
      "outputs": [
        {
          "output_type": "stream",
          "name": "stdout",
          "text": [
            "Subject: subject01, min-threshold: 99.82958524068763\n",
            "Subject: subject06, min-threshold: 100.23543256658874\n",
            "Subject: subject06, min-threshold: 126.22056833225749\n",
            "Subject: subject01, min-threshold: 68.37975942358503\n",
            "Subject: subject09, min-threshold: 142.52156495845594\n",
            "Subject: subject01, min-threshold: 109.80430681796616\n",
            "Subject: subject01, min-threshold: 44.92924629966843\n",
            "Subject: subject07, min-threshold: 62.92397430504848\n",
            "Subject: subject07, min-threshold: 64.18925818616319\n",
            "Subject: subject01, min-threshold: 127.01204658318113\n",
            "Subject: subject06, min-threshold: 96.34794108290032\n",
            "Subject: subject09, min-threshold: 229.96166245396836\n",
            "Subject: subject01, min-threshold: 80.95682051776039\n",
            "Subject: subject01, min-threshold: 131.02624703766395\n",
            "Subject: subject09, min-threshold: 168.184888150373\n",
            "Subject: subject09, min-threshold: 128.8718319962452\n",
            "Subject: subject09, min-threshold: 128.8718319962452\n",
            "Subject: subject09, min-threshold: 188.07254234789352\n",
            "Subject: subject01, min-threshold: 113.59738056033456\n",
            "Subject: subject09, min-threshold: 151.62032595374382\n",
            "Subject: subject02, min-threshold: 126.6771567025747\n",
            "Subject: subject10, min-threshold: 115.53379841551052\n",
            "Subject: subject10, min-threshold: 66.02899712223574\n",
            "Subject: subject10, min-threshold: 45.51320025247432\n",
            "Subject: subject04, min-threshold: 85.19460154336579\n",
            "Subject: subject10, min-threshold: 74.82811834706405\n",
            "Subject: subject04, min-threshold: 78.01912459880612\n",
            "Subject: subject04, min-threshold: 78.01912459880612\n",
            "Subject: subject10, min-threshold: 80.12608175728143\n",
            "Subject: subject12, min-threshold: 73.56304637291285\n",
            "Subject: subject04, min-threshold: 114.08563955125888\n",
            "Subject: subject06, min-threshold: 137.40864257374693\n",
            "Subject: subject05, min-threshold: 137.77001585525682\n",
            "Average Threshold : 108.37347765157651\n"
          ]
        }
      ]
    }
  ]
}